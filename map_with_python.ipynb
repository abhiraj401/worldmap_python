{
 "cells": [
  {
   "cell_type": "code",
   "execution_count": 11,
   "metadata": {},
   "outputs": [],
   "source": [
    "import os\n",
    "import sys\n",
    "import folium\n",
    "import pandas\n",
    "\n",
    "path=sys.argv\n",
    "df=pandas.read_csv(path[1])\n",
    "\n",
    "map = folium.Map(location=[45.372, -122.697],zoom_start=4,tiles='Stamen Terrain')\n",
    "\n",
    "for lat,lon,name in zip(df['LAT'],df['LON'],df['NAME']):\n",
    "    map.simple_marker(location=[lat,lon],popup=name,marker_color='red')\n",
    "\n",
    "map.create_map(path='test.html')"
   ]
  },
  {
   "cell_type": "markdown",
   "metadata": {},
   "source": [
    "# Mapping basic marker points on map using the file as input."
   ]
  },
  {
   "cell_type": "code",
   "execution_count": 15,
   "metadata": {},
   "outputs": [],
   "source": [
    "import folium\n",
    "import pandas\n",
    "df=pandas.read_csv(\"Volcanoes-USA.txt\")\n",
    "map = folium.Map(location=[45.372, -122.697],zoom_start=4,tiles='Stamen Terrain')\n",
    "for lat,lon,name in zip(df['LAT'],df['LON'],df['NAME']):\n",
    "    map.simple_marker(location=[lat,lon],popup=name,marker_color='red')\n",
    "map.create_map(path='test.html')"
   ]
  },
  {
   "cell_type": "markdown",
   "metadata": {},
   "source": [
    "# Later development using Elevation parameter."
   ]
  },
  {
   "cell_type": "code",
   "execution_count": 14,
   "metadata": {},
   "outputs": [],
   "source": [
    "import folium\n",
    "import pandas\n",
    "df=pandas.read_csv(\"Volcanoes-USA.txt\")\n",
    "map = folium.Map(location=[45.372, -122.697],zoom_start=4,tiles='Stamen Terrain')\n",
    "def color(elev):\n",
    "    minimum=int(min(df['ELEV']))\n",
    "    step=int((max(df['ELEV'])-min(df['ELEV']))/3)\n",
    "    if elev in range(minimum,minimum+step):\n",
    "        col='green'\n",
    "    elif elev in range(minimum+step,minimum+step*2):\n",
    "        col='orange'\n",
    "    else:\n",
    "        col='red'\n",
    "    return col\n",
    "for lat,lon,name,elev in zip(df['LAT'],df['LON'],df['NAME'],df['ELEV']):\n",
    "    map.simple_marker(location=[lat,lon],popup=name,marker_color=color(elev))\n",
    "map.create_map(path='test.html')"
   ]
  },
  {
   "cell_type": "code",
   "execution_count": null,
   "metadata": {},
   "outputs": [],
   "source": []
  }
 ],
 "metadata": {
  "kernelspec": {
   "display_name": "Python 2",
   "language": "python",
   "name": "python2"
  },
  "language_info": {
   "codemirror_mode": {
    "name": "ipython",
    "version": 2
   },
   "file_extension": ".py",
   "mimetype": "text/x-python",
   "name": "python",
   "nbconvert_exporter": "python",
   "pygments_lexer": "ipython2",
   "version": "2.7.15"
  }
 },
 "nbformat": 4,
 "nbformat_minor": 2
}
